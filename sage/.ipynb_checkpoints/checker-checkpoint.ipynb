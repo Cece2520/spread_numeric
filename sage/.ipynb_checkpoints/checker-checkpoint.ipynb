{
 "cells": [
  {
   "cell_type": "code",
   "execution_count": 1,
   "metadata": {},
   "outputs": [],
   "source": [
    "maxima_calculus('algebraic: true;')\n",
    "var('u v mn mu nu a2 a3 a4')\n",
    "\n",
    "ssub = lambda x: x.substitute(u = mu-nu, v = mu+nu, mn = mu*nu)"
   ]
  },
  {
   "cell_type": "code",
   "execution_count": 2,
   "metadata": {},
   "outputs": [
    {
     "name": "stdout",
     "output_type": "stream",
     "text": [
      "mu - nu\n",
      "mu - nu\n"
     ]
    }
   ],
   "source": [
    "# prop 1 test (fg3, assuming 23)\n",
    "\n",
    "f3_23 = sqrt((a3+2*nu)*mu/(v*a3+2*mn))\n",
    "g3_23 = sqrt((a3+2*mu)*nu/(v*a3+2*mn))\n",
    "\n",
    "f2_23 = f3_23*(1+a3/mu)\n",
    "g2_23 = g3_23*(1+a3/nu)\n",
    "\n",
    "print(ssub(mu*f3_23^2 - nu*g3_23^2).factor())\n",
    "print(ssub(mu*f2_23^2 - nu*g2_23^2).factor())"
   ]
  },
  {
   "cell_type": "code",
   "execution_count": 3,
   "metadata": {},
   "outputs": [
    {
     "name": "stdout",
     "output_type": "stream",
     "text": [
      "mu - nu\n",
      "mu - nu\n",
      "0\n"
     ]
    }
   ],
   "source": [
    "# prop 2 test (a2, assuming 23)\n",
    "\n",
    "f3_234 = sqrt((a3+2*nu)*mu/(v*a3+2*mn))\n",
    "g3_234 = sqrt((a3+2*mu)*nu/(v*a3+2*mn))\n",
    "\n",
    "f2_234 = f3_234*(1+a3/mu)\n",
    "g2_234 = g3_234*(1+a3/nu)\n",
    "\n",
    "print(ssub(mu*f3_234^2 - nu*g3_234^2).factor())\n",
    "print(ssub(mu*f2_234^2 - nu*g2_234^2).factor())\n",
    "\n",
    "\n",
    "num_a2_234 = 2*a3*(mn)**2\n",
    "denom_a2_234 = (2*( mn + a3*v )**2 + a3**3*v)\n",
    "a2_234 = num_a2_234 / denom_a2_234\n",
    "\n",
    "f4_234 = f3_234 - a2*f2_234/mu\n",
    "g4_234 = g3_234 - a2*g2_234/nu\n",
    "\n",
    "e4_234 = ssub(mu*f4_234^2 - nu*g4_234^2 - mu + nu)\n",
    "\n",
    "e4_234_guess = (a2*denom_a2_234 - num_a2_234 )*a2*(nu-mu)\n",
    "e4_234_guess /= (mn**2 * (v*a3 + 2*mn) )\n",
    "e4_234_guess = ssub(e4_234_guess)\n",
    "print((e4_234 - e4_234_guess).factor())"
   ]
  },
  {
   "cell_type": "code",
   "execution_count": 4,
   "metadata": {},
   "outputs": [
    {
     "name": "stdout",
     "output_type": "stream",
     "text": [
      "mu - nu\n",
      "mu - nu\n",
      "mu - nu\n",
      "0\n"
     ]
    }
   ],
   "source": [
    "# prop 3 test (a4, assuming 1234)\n",
    "\n",
    "f3_1234 = sqrt((a3+2*nu)*mu/(v*a3+2*mn))\n",
    "g3_1234 = sqrt((a3+2*mu)*nu/(v*a3+2*mn))\n",
    "\n",
    "f2_1234 = f3_1234*(1+a3/mu)\n",
    "g2_1234 = g3_1234*(1+a3/nu)\n",
    "print(ssub(mu*f3_1234^2 - nu*g3_1234^2).factor())\n",
    "print(ssub(mu*f2_1234^2 - nu*g2_1234^2).factor())\n",
    "\n",
    "\n",
    "num_a2_1234 = 2*a3*(mn)**2\n",
    "denom_a2_1234 = (2*( mn + a3*v )**2 + a3**3*v)\n",
    "a2_1234 = num_a2_1234 / denom_a2_1234\n",
    "\n",
    "f4_1234 = f3_1234 - a2_1234*f2_1234/mu\n",
    "g4_1234 = g3_1234 - a2_1234*g2_1234/nu\n",
    "print(ssub(mu*f4_1234^2 - nu*g4_1234^2).factor())\n",
    "\n",
    "\n",
    "num_a4_1234 = a3*(2*(mn + a3*v)**2 + a3**3*v)**2\n",
    "denom_a4_1234 = 4*mn**2*(mn + a3*v)**2\n",
    "denom_a4_1234 -= 2*a3**3 * (a3*v + mn)*(a3*v + 3*mn)*v\n",
    "denom_a4_1234 -= a3**5*v*( 2*mn + a3*v )\n",
    "a4_1234_guess = num_a4_1234 / denom_a4_1234\n",
    "\n",
    "f1_1234 = f2_1234 + a4*f4_1234/mu\n",
    "g1_1234 = g2_1234 + a4*g4_1234/nu\n",
    "\n",
    "\n",
    "e1_1234 = ssub(mu*f1_1234^2 - nu*g1_1234^2 - mu + nu)\n",
    "\n",
    "e1_1234_guess = num_a4_1234 - a4*denom_a4_1234\n",
    "e1_1234_guess *= 2*a4*(mu-nu) / (v*a3 + 2*mn)\n",
    "e1_1234_guess /= denom_a2_1234**2\n",
    "e1_1234_guess = ssub(e1_1234_guess)\n",
    "\n",
    "print((e1_1234-e1_1234_guess).factor())"
   ]
  },
  {
   "cell_type": "code",
   "execution_count": 5,
   "metadata": {},
   "outputs": [
    {
     "name": "stdout",
     "output_type": "stream",
     "text": [
      "mu - nu\n",
      "mu - nu\n",
      "mu - nu\n",
      "0\n"
     ]
    }
   ],
   "source": [
    "# prop 4 test (a4, assuming N2347)\n",
    "\n",
    "f3_N2347 = sqrt((a3+2*nu)*mu/(v*a3+2*mn))\n",
    "g3_N2347 = sqrt((a3+2*mu)*nu/(v*a3+2*mn))\n",
    "\n",
    "f2_N2347 = f3_N2347*(1+a3/mu)\n",
    "g2_N2347 = g3_N2347*(1+a3/nu)\n",
    "print(ssub(mu*f3_N2347^2 - nu*g3_N2347^2).factor())\n",
    "print(ssub(mu*f2_N2347^2 - nu*g2_N2347^2).factor())\n",
    "\n",
    "\n",
    "num_a2_N2347 = 2*a3*(mn)**2\n",
    "denom_a2_N2347 = (2*( mn + a3*v )**2 + a3**3*v)\n",
    "a2_N2347 = num_a2_N2347 / denom_a2_N2347\n",
    "\n",
    "f4_N2347 = f3_N2347 - a2_N2347*f2_N2347/mu\n",
    "g4_N2347 = g3_N2347 - a2_N2347*g2_N2347/nu\n",
    "print(ssub(mu*f4_N2347^2 - nu*g4_N2347^2).factor())\n",
    "\n",
    "\n",
    "num_a4_N2347 = 4*((3*a3*v + mn)*(2*a3*v + mn) - a3*mn*v)*mn**2*a3 \n",
    "num_a4_N2347 += 4*v*a3**4*((mn + a3*v)**2 + v**2*(4*mn + a3*v))\n",
    "num_a4_N2347 += v**2*a3**7\n",
    "\n",
    "denom_a4_N2347 = 4*mn**2*(mn + a3*v)**2\n",
    "denom_a4_N2347 -= 2*a3**3 * (a3*v + mn)*(a3*v + 3*mn)*v\n",
    "denom_a4_N2347 -= a3**5*v*( 2*mn + a3*v )\n",
    "a4_N2347_guess = num_a4_N2347 / denom_a4_N2347\n",
    "\n",
    "f7_N2347 = a2_N2347*f2_N2347 + a3*f3_N2347 + a4*f4_N2347\n",
    "g7_N2347 = a2_N2347*g2_N2347 + a3*g3_N2347 + a4*g4_N2347\n",
    "\n",
    "\n",
    "e4_N2347 = mu*f1_1234^2 - nu*g1_1234^2 - mu + nu\n",
    "e4_guess = 2*a4*(mu-nu) / ((v*a3 + 2*mn)*denom_a2_N2347**2)\n",
    "e4_guess *= num_a4_N2347 - a4*denom_a4_N2347\n",
    "\n",
    "print(ssub(e4_N2347 - e4_guess).factor())"
   ]
  },
  {
   "cell_type": "code",
   "execution_count": 6,
   "metadata": {},
   "outputs": [
    {
     "name": "stdout",
     "output_type": "stream",
     "text": [
      "mu - nu\n",
      "mu - nu\n"
     ]
    }
   ],
   "source": [
    "# prop 5 test (fg2, assuming 2N4)\n",
    "\n",
    "f3_2N4 = sqrt((a2-2*nu)*mu/(v*a2-2*mn))\n",
    "g3_2N4 = sqrt((a2-2*mu)*nu/(v*a2-2*mn))\n",
    "\n",
    "f2_2N4 = f3_2N4*(1-a2/mu)\n",
    "g2_2N4 = g3_2N4*(1-a2/nu)\n",
    "\n",
    "print(ssub(mu*f3_2N4^2 - nu*g3_2N4^2).factor())\n",
    "print(ssub(mu*f2_2N4^2 - nu*g2_2N4^2).factor())"
   ]
  },
  {
   "cell_type": "code",
   "execution_count": 7,
   "metadata": {},
   "outputs": [
    {
     "name": "stdout",
     "output_type": "stream",
     "text": [
      "mu - nu\n",
      "mu - nu\n",
      "0\n"
     ]
    }
   ],
   "source": [
    "# prop 6 test (a4, assuming 12N4)\n",
    "\n",
    "f2_12N4 = sqrt((a2-2*nu)*mu/(v*a2-2*mn))\n",
    "g2_12N4 = sqrt((a2-2*mu)*nu/(v*a2-2*mn))\n",
    "\n",
    "f4_12N4 = f2_12N4*(1-a2/mu)\n",
    "g4_12N4 = g2_12N4*(1-a2/nu)\n",
    "\n",
    "print(ssub(mu*f4_12N4^2 - nu*g4_12N4^2).factor())\n",
    "print(ssub(mu*f2_12N4^2 - nu*g2_12N4^2).factor())\n",
    "\n",
    "\n",
    "num_a4_12N4 = 2*a2*mn**2\n",
    "denom_a4_12N4 = ( 2*(a2*v - mn)**2 - v*a2**3 )\n",
    "a4_12N4 = num_a4_12N4 / denom_a4_12N4\n",
    "\n",
    "f1_12N4 = f2_12N4 + a4*f4_12N4/mu\n",
    "g1_12N4 = g2_12N4 + a4*g4_12N4/nu\n",
    "\n",
    "e1_12N4 = mu*f1_12N4^2 - nu*g1_12N4^2 - mu + nu\n",
    "\n",
    "e1_12N4_guess = (a4*denom_a4_12N4 - num_a4_12N4)\n",
    "e1_12N4_guess *= a4*(mu-nu)\n",
    "e1_12N4_guess /= (v*a2-2*mn)*mn**2\n",
    "\n",
    "\n",
    "print(ssub(e1_12N4 - e1_12N4_guess).factor())"
   ]
  },
  {
   "cell_type": "code",
   "execution_count": null,
   "metadata": {},
   "outputs": [],
   "source": []
  }
 ],
 "metadata": {
  "kernelspec": {
   "display_name": "SageMath 9.0",
   "language": "sage",
   "name": "sagemath"
  },
  "language_info": {
   "codemirror_mode": {
    "name": "ipython",
    "version": 3
   },
   "file_extension": ".py",
   "mimetype": "text/x-python",
   "name": "python",
   "nbconvert_exporter": "python",
   "pygments_lexer": "ipython3",
   "version": "3.8.10"
  }
 },
 "nbformat": 4,
 "nbformat_minor": 4
}
