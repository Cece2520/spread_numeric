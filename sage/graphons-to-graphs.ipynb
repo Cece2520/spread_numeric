{
 "cells": [
  {
   "cell_type": "code",
   "execution_count": 93,
   "metadata": {},
   "outputs": [],
   "source": [
    "maxima_calculus('algebraic: true')\n",
    "\n",
    "# we use u = epsilon_1 and v = epsilon_2\n",
    "var('u v z')\n",
    "\n",
    "# the weight vector (alpha_4,alpha_5,alpha_7) = (r, s, t)\n",
    "# it lies in the simplex T (r,s,t >= 0 & r+s+t = 1)\n",
    "r = 2/3-u\n",
    "t = 1/3-v\n",
    "s = 1-r-t\n",
    "\n",
    "rnd = lambda x: round(x, 8)\n",
    "opt_limit = lambda x: x.substitute(u = 0, v = 0, z = 0)\n",
    "opt_limit_rnd = lambda x: rnd(opt_limit(x))"
   ]
  },
  {
   "cell_type": "code",
   "execution_count": 94,
   "metadata": {},
   "outputs": [
    {
     "name": "stdout",
     "output_type": "stream",
     "text": [
      "[-u - z + 2/3            0     -v + 1/3]\n",
      "[           0            0     -v + 1/3]\n",
      "[    -u + 2/3        u + v            0]\n",
      "\n",
      "a -> 1\n",
      "b -> -2/3\n",
      "c -> -2/9\n",
      "d -> 0\n"
     ]
    }
   ],
   "source": [
    "# the corresponding weighted adjacency matrix\n",
    "mat = matrix( [ [r-z,0,t],[0,0,t],[r,s,0] ] )\n",
    "char = symbolic_expression(mat.characteristic_polynomial())\n",
    "print(mat)\n",
    "\n",
    "# coefficients of the characteristic polynomial\n",
    "d,c,b,a = [coe[0] for coe in char.coefficients(x)]\n",
    "\n",
    "print()\n",
    "print(\"a ->\", opt_limit(a))\n",
    "print(\"b ->\", opt_limit(b))\n",
    "print(\"c ->\", opt_limit(c))\n",
    "print(\"d ->\", opt_limit(d))"
   ]
  },
  {
   "cell_type": "code",
   "execution_count": 95,
   "metadata": {
    "scrolled": true
   },
   "outputs": [
    {
     "name": "stdout",
     "output_type": "stream",
     "text": [
      "p -> -2/3\n",
      "q -> -52/729\n",
      "\n",
      "A -> 2/9*sqrt(10)\n",
      "B -> 2/9\n",
      "phi -> arccos(13/50*sqrt(10))\n"
     ]
    }
   ],
   "source": [
    "# following substitutions per Viete's formula\n",
    "p = ((3*a*c-b^2)/(3*a^2)).factor()\n",
    "q = ((2*b^3-9*a*b*c+27*a^2*d)/(27*a^3)).factor()\n",
    "\n",
    "A = 2*sqrt(-p/3)\n",
    "B = (-b/(3*a)).factor()\n",
    "\n",
    "arg = 3*q/(A*p)\n",
    "phi = arccos(arg)\n",
    "\n",
    "print(\"p ->\", opt_limit(b))\n",
    "print(\"q ->\", opt_limit(q))\n",
    "print()\n",
    "\n",
    "print(\"A ->\", opt_limit(A))\n",
    "print(\"B ->\", opt_limit(B))\n",
    "print(\"phi ->\", opt_limit(phi))"
   ]
  },
  {
   "cell_type": "code",
   "execution_count": 96,
   "metadata": {},
   "outputs": [
    {
     "name": "stdout",
     "output_type": "stream",
     "text": [
      "mu -> 0.9106836\n",
      "nu -> -0.24401694\n",
      "delta -> -0.0\n",
      "spr -> 1.15470054\n"
     ]
    }
   ],
   "source": [
    "# roots, per Viete's formula\n",
    "mu = A*cos(phi/3) + B\n",
    "nu = A*cos((phi+2*pi)/3) + B\n",
    "delta = A*cos((phi+4*pi)/3) + B\n",
    "\n",
    "# spread, as a function of u and v\n",
    "psi = (2*phi-pi)/6\n",
    "S = (A*sqrt(3)*cos(psi))\n",
    "\n",
    "# check eigenvalues and spread\n",
    "print(\"mu ->\", opt_limit_rnd(mu))\n",
    "print(\"nu ->\", opt_limit_rnd(nu))\n",
    "print(\"delta ->\", opt_limit_rnd(delta))\n",
    "print(\"spr ->\", opt_limit_rnd(S))"
   ]
  },
  {
   "cell_type": "code",
   "execution_count": 97,
   "metadata": {
    "scrolled": true
   },
   "outputs": [
    {
     "name": "stdout",
     "output_type": "stream",
     "text": [
      "S11 = -8.66025404\n",
      "S12 = -8.66025404\n",
      "S22 = -11.25833025\n",
      "D = 22.5\n"
     ]
    }
   ],
   "source": [
    "S_lim = S.substitute(z = 0)\n",
    "S11 = S_lim.derivative(u, 2).substitute(u = 0).derivative(v, 0).substitute(v = 0)\n",
    "S12 = S_lim.derivative(u, 1).substitute(u = 0).derivative(v, 1).substitute(v = 0)\n",
    "S22 = S_lim.derivative(u, 0).substitute(u = 0).derivative(v, 2).substitute(v = 0)\n",
    "\n",
    "print(\"S11 =\", rnd(S11))\n",
    "print(\"S12 =\", rnd(S12))\n",
    "print(\"S22 =\", rnd(S22))\n",
    "\n",
    "D = S11*S22 - S12^2\n",
    "print(\"D =\", rnd(D))"
   ]
  },
  {
   "cell_type": "code",
   "execution_count": 98,
   "metadata": {},
   "outputs": [
    {
     "name": "stdout",
     "output_type": "stream",
     "text": [
      "tau_1 = -13/6*u - 8/3*v - 1/12*z - 1/3 + ...\n",
      "tau_2 = -32/9*u - 103/18*v - 7/9*z - 1/3 + ...\n",
      "\n",
      "arctan(tau_1) = -39/20*u - 12/5*v - 3/40*z - arctan(1/3) + ...\n",
      "arctan(tau_2) = -16/5*u - 103/20*v - 7/10*z - arctan(1/3) + ...\n",
      "angle = -1/6*pi + 9/5*u + 27/20*v + 3/10*z + 1/3*arccos(13/50*sqrt(10)) + ...\n",
      "\n"
     ]
    }
   ],
   "source": [
    "var('T')\n",
    "approx = lambda x: x.substitute(u = u*T, v = v*T, z = z*T).series(T, 2).truncate().substitute(T = 1).simplify_full().factor()\n",
    "\n",
    "tau1_approx = approx(3*A.derivative(u)/(A*phi.derivative(u)))\n",
    "tau2_approx = approx(3*A.derivative(v)/(A*phi.derivative(v)))\n",
    "\n",
    "print('tau_1 =', tau1_approx, '+ ...')\n",
    "print('tau_2 =', tau2_approx, '+ ...')\n",
    "\n",
    "arctau1_approx = approx(arctan(tau1_approx))\n",
    "arctau2_approx = approx(arctan(tau2_approx))\n",
    "print()\n",
    "\n",
    "print('arctan(tau_1) =', arctau1_approx, '+ ...')\n",
    "print('arctan(tau_2) =', arctau2_approx, '+ ...')\n",
    "print('angle =', approx(psi), '+ ...')\n",
    "\n",
    "print()"
   ]
  },
  {
   "cell_type": "code",
   "execution_count": null,
   "metadata": {},
   "outputs": [],
   "source": []
  }
 ],
 "metadata": {
  "kernelspec": {
   "display_name": "SageMath 9.0",
   "language": "sage",
   "name": "sagemath"
  },
  "language_info": {
   "codemirror_mode": {
    "name": "ipython",
    "version": 3
   },
   "file_extension": ".py",
   "mimetype": "text/x-python",
   "name": "python",
   "nbconvert_exporter": "python",
   "pygments_lexer": "ipython3",
   "version": "3.8.10"
  }
 },
 "nbformat": 4,
 "nbformat_minor": 4
}
